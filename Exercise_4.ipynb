{
  "nbformat": 4,
  "nbformat_minor": 0,
  "metadata": {
    "colab": {
      "provenance": []
    },
    "kernelspec": {
      "name": "python3",
      "display_name": "Python 3"
    },
    "language_info": {
      "name": "python"
    }
  },
  "cells": [
    {
      "cell_type": "code",
      "source": [
        "import pandas as pd\n",
        "\n",
        "file_path = '/content/Amazon Sale Report.csv'\n",
        "data = pd.read_csv(file_path)\n",
        "\n",
        "print(\"Dataset Overview:\")\n",
        "print(data.info())\n",
        "\n",
        "missing_values = data.isnull().sum()\n",
        "print(\"\\nMissing Values by Column:\")\n",
        "print(missing_values)\n",
        "\n",
        "for column in data.columns:\n",
        "    if data[column].isnull().sum() > 0:\n",
        "        if data[column].dtype in ['float64', 'int64']:\n",
        "\n",
        "            data[column].fillna(data[column].mean(), inplace=True)\n",
        "        elif data[column].dtype == 'object':\n",
        "\n",
        "            data[column].fillna(data[column].mode()[0], inplace=True)\n",
        "\n",
        "print(\"\\nMissing Values After Imputation:\")\n",
        "print(data.isnull().sum())"
      ],
      "metadata": {
        "colab": {
          "base_uri": "https://localhost:8080/"
        },
        "id": "zasFlo5btf76",
        "outputId": "f5ebddfa-d70a-4004-89e4-b5190df2bd8b"
      },
      "execution_count": 42,
      "outputs": [
        {
          "output_type": "stream",
          "name": "stdout",
          "text": [
            "Dataset Overview:\n",
            "<class 'pandas.core.frame.DataFrame'>\n",
            "RangeIndex: 128975 entries, 0 to 128974\n",
            "Data columns (total 24 columns):\n",
            " #   Column              Non-Null Count   Dtype  \n",
            "---  ------              --------------   -----  \n",
            " 0   index               128975 non-null  float64\n",
            " 1   Order ID            128975 non-null  object \n",
            " 2   Date                128975 non-null  object \n",
            " 3   Status              128975 non-null  object \n",
            " 4   Fulfilment          128975 non-null  object \n",
            " 5   Sales Channel       128975 non-null  object \n",
            " 6   ship-service-level  128975 non-null  object \n",
            " 7   Style               128975 non-null  object \n",
            " 8   SKU                 128975 non-null  object \n",
            " 9   Category            128975 non-null  object \n",
            " 10  Size                128975 non-null  object \n",
            " 11  ASIN                128975 non-null  object \n",
            " 12  Courier Status      128975 non-null  object \n",
            " 13  Qty                 128975 non-null  float64\n",
            " 14  currency            128975 non-null  object \n",
            " 15  Amount              128975 non-null  float64\n",
            " 16  ship-city           128975 non-null  object \n",
            " 17  ship-state          128975 non-null  object \n",
            " 18  ship-postal-code    128975 non-null  float64\n",
            " 19  ship-country        128975 non-null  object \n",
            " 20  promotion-ids       128975 non-null  object \n",
            " 21  B2B                 128975 non-null  bool   \n",
            " 22  fulfilled-by        128975 non-null  object \n",
            " 23  Unnamed: 22         128975 non-null  bool   \n",
            "dtypes: bool(2), float64(4), object(18)\n",
            "memory usage: 21.9+ MB\n",
            "None\n",
            "\n",
            "Missing Values by Column:\n",
            "index                 0\n",
            "Order ID              0\n",
            "Date                  0\n",
            "Status                0\n",
            "Fulfilment            0\n",
            "Sales Channel         0\n",
            "ship-service-level    0\n",
            "Style                 0\n",
            "SKU                   0\n",
            "Category              0\n",
            "Size                  0\n",
            "ASIN                  0\n",
            "Courier Status        0\n",
            "Qty                   0\n",
            "currency              0\n",
            "Amount                0\n",
            "ship-city             0\n",
            "ship-state            0\n",
            "ship-postal-code      0\n",
            "ship-country          0\n",
            "promotion-ids         0\n",
            "B2B                   0\n",
            "fulfilled-by          0\n",
            "Unnamed: 22           0\n",
            "dtype: int64\n",
            "\n",
            "Missing Values After Imputation:\n",
            "index                 0\n",
            "Order ID              0\n",
            "Date                  0\n",
            "Status                0\n",
            "Fulfilment            0\n",
            "Sales Channel         0\n",
            "ship-service-level    0\n",
            "Style                 0\n",
            "SKU                   0\n",
            "Category              0\n",
            "Size                  0\n",
            "ASIN                  0\n",
            "Courier Status        0\n",
            "Qty                   0\n",
            "currency              0\n",
            "Amount                0\n",
            "ship-city             0\n",
            "ship-state            0\n",
            "ship-postal-code      0\n",
            "ship-country          0\n",
            "promotion-ids         0\n",
            "B2B                   0\n",
            "fulfilled-by          0\n",
            "Unnamed: 22           0\n",
            "dtype: int64\n"
          ]
        }
      ]
    },
    {
      "cell_type": "code",
      "source": [
        "from sklearn.preprocessing import StandardScaler, MinMaxScaler\n",
        "\n",
        "numerical_columns = data.select_dtypes(include=['float64', 'int64']).columns\n",
        "\n",
        "standard_scaler = StandardScaler()\n",
        "min_max_scaler = MinMaxScaler()\n",
        "\n",
        "data_standardized = data.copy()\n",
        "data_standardized[numerical_columns] = standard_scaler.fit_transform(data[numerical_columns])\n",
        "\n",
        "\n",
        "data_normalized = data.copy()\n",
        "data_normalized[numerical_columns] = min_max_scaler.fit_transform(data[numerical_columns])\n",
        "\n",
        "\n",
        "standardized_file_path = '/content/Amazon Sale Report.csv'\n",
        "normalized_file_path = '/content/Amazon Sale Report.csv'\n",
        "\n",
        "data_standardized.to_csv(standardized_file_path, index=False)\n",
        "data_normalized.to_csv(normalized_file_path, index=False)\n",
        "\n",
        "print(f\"\\nStandardized dataset saved to {standardized_file_path}\")\n",
        "print(f\"Normalized dataset saved to {normalized_file_path}\")\n"
      ],
      "metadata": {
        "colab": {
          "base_uri": "https://localhost:8080/"
        },
        "id": "pxDjXT7mt6Gx",
        "outputId": "a1fb931f-c2e2-4cd1-b0cb-1b15f69294a4"
      },
      "execution_count": 41,
      "outputs": [
        {
          "output_type": "stream",
          "name": "stdout",
          "text": [
            "\n",
            "Standardized dataset saved to /content/Amazon Sale Report.csv\n",
            "Normalized dataset saved to /content/Amazon Sale Report.csv\n"
          ]
        }
      ]
    },
    {
      "cell_type": "code",
      "source": [
        "import numpy as np\n",
        "from scipy.signal import savgol_filter\n",
        "\n",
        "\n",
        "numerical_columns = data.select_dtypes(include=['float64', 'int64']).columns\n",
        "feature_to_modify = numerical_columns[0]\n",
        "print(f\"Feature selected for noise injection: {feature_to_modify}\")\n",
        "\n",
        "\n",
        "np.random.seed(42)\n",
        "noise = np.random.normal(0, 0.1, size=data[feature_to_modify].shape)\n",
        "data_noisy = data.copy()\n",
        "data_noisy[feature_to_modify] += noise\n",
        "\n",
        "data_smoothed_rolling = data_noisy.copy()\n",
        "data_smoothed_rolling[feature_to_modify] = data_noisy[feature_to_modify].rolling(window=5, center=True).mean()\n",
        "\n",
        "\n",
        "data_smoothed_savgol = data_noisy.copy()\n",
        "data_smoothed_savgol[feature_to_modify] = savgol_filter(data_noisy[feature_to_modify], window_length=5, polyorder=2)\n",
        "\n",
        "noisy_file_path = '/content/Amazon Sale Report.csv'\n",
        "smoothed_rolling_file_path = '/content/Amazon Sale Report.csv'\n",
        "smoothed_savgol_file_path = '/content/Amazon Sale Report.csv'\n",
        "\n",
        "data_noisy.to_csv(noisy_file_path, index=False)\n",
        "data_smoothed_rolling.to_csv(smoothed_rolling_file_path, index=False)\n",
        "data_smoothed_savgol.to_csv(smoothed_savgol_file_path, index=False)\n",
        "\n",
        "print(f\"\\nNoisy dataset saved to {noisy_file_path}\")\n",
        "print(f\"Dataset smoothed with rolling average saved to {smoothed_rolling_file_path}\")\n",
        "print(f\"Dataset smoothed with Savitzky-Golay filter saved to {smoothed_savgol_file_path}\")"
      ],
      "metadata": {
        "colab": {
          "base_uri": "https://localhost:8080/"
        },
        "id": "Om3snZ_Yy4xo",
        "outputId": "ab159591-e937-4674-bdd1-5dd71d3e2013"
      },
      "execution_count": 40,
      "outputs": [
        {
          "output_type": "stream",
          "name": "stdout",
          "text": [
            "Feature selected for noise injection: index\n",
            "\n",
            "Noisy dataset saved to /content/Amazon Sale Report.csv\n",
            "Dataset smoothed with rolling average saved to /content/Amazon Sale Report.csv\n",
            "Dataset smoothed with Savitzky-Golay filter saved to /content/Amazon Sale Report.csv\n"
          ]
        }
      ]
    },
    {
      "cell_type": "code",
      "source": [
        "from scipy.stats import zscore\n",
        "\n",
        "\n",
        "threshold = 3\n",
        "outliers_removed_data = data.copy()\n",
        "outliers_capped_data = data.copy()\n",
        "\n",
        "\n",
        "for column in numerical_columns:\n",
        "\n",
        "    z_scores = zscore(data[column].dropna())\n",
        "    abs_z_scores = np.abs(z_scores)\n",
        "\n",
        "\n",
        "    outliers = abs_z_scores > threshold\n",
        "    print(f\"Column: {column}\")\n",
        "    print(f\"Number of outliers detected: {outliers.sum()}\")\n",
        "\n",
        "\n",
        "    outliers_removed_data = outliers_removed_data.loc[~outliers, :]\n",
        "\n",
        "\n",
        "    lower_bound = data[column].mean() - threshold * data[column].std()\n",
        "    upper_bound = data[column].mean() + threshold * data[column].std()\n",
        "    outliers_capped_data[column] = np.where(\n",
        "        outliers,\n",
        "        np.clip(data[column], lower_bound, upper_bound),\n",
        "        data[column]\n",
        "    )\n",
        "\n",
        "\n",
        "outliers_removed_file_path = '/content/Amazon Sale Report.csv'\n",
        "outliers_capped_file_path = '/content/Amazon Sale Report.csv'\n",
        "\n",
        "outliers_removed_data.to_csv(outliers_removed_file_path, index=False)\n",
        "outliers_capped_data.to_csv(outliers_capped_file_path, index=False)\n",
        "\n",
        "print(f\"\\nDataset with outliers removed saved to {outliers_removed_file_path}\")\n",
        "print(f\"Dataset with outliers capped saved to {outliers_capped_file_path}\")\n"
      ],
      "metadata": {
        "colab": {
          "base_uri": "https://localhost:8080/"
        },
        "id": "1kOKUsJrzSpK",
        "outputId": "d2953ed0-9cc0-413c-b18a-bf3b5f355371"
      },
      "execution_count": 39,
      "outputs": [
        {
          "output_type": "stream",
          "name": "stdout",
          "text": [
            "Column: index\n",
            "Number of outliers detected: 0\n",
            "Column: Qty\n",
            "Number of outliers detected: 388\n",
            "Column: Amount\n",
            "Number of outliers detected: 946\n",
            "Column: ship-postal-code\n",
            "Number of outliers detected: 0\n",
            "\n",
            "Dataset with outliers removed saved to /content/Amazon Sale Report.csv\n",
            "Dataset with outliers capped saved to /content/Amazon Sale Report.csv\n"
          ]
        }
      ]
    },
    {
      "cell_type": "code",
      "source": [
        "import pandas as pd\n",
        "import numpy as np\n",
        "from sklearn.feature_selection import mutual_info_regression\n",
        "import seaborn as sns\n",
        "import matplotlib.pyplot as plt\n",
        "\n",
        "\n",
        "target_column = 'Amount'\n",
        "features = data.drop(columns=[target_column])\n",
        "target = data[target_column]\n",
        "\n",
        "\n",
        "numerical_features = features.select_dtypes(include=['float64', 'int64'])\n",
        "\n",
        "\n",
        "def correlation_with_target(X, y):\n",
        "    correlation = X.corrwith(y)\n",
        "    print(\"Correlation with Target:\\n\", correlation)\n",
        "\n",
        "\n",
        "    plt.figure(figsize=(10, 6))\n",
        "    correlation.sort_values(ascending=False).plot(kind='bar', color='steelblue')\n",
        "    plt.title('Correlation with Target')\n",
        "    plt.ylabel('Correlation Coefficient')\n",
        "    plt.xlabel('Features')\n",
        "    plt.grid(axis='y', linestyle='--', alpha=0.7)\n",
        "    plt.show()\n",
        "\n",
        "    return correlation\n",
        "\n",
        "correlation_scores = correlation_with_target(numerical_features, target)\n",
        "\n",
        "\n",
        "def mutual_information_with_target(X, y):\n",
        "    mutual_info = mutual_info_regression(X, y)\n",
        "    mutual_info_series = pd.Series(mutual_info, index=X.columns)\n",
        "    print(\"\\nMutual Information Scores:\\n\", mutual_info_series)\n",
        "\n",
        "\n",
        "    plt.figure(figsize=(10, 6))\n",
        "    mutual_info_series.sort_values(ascending=False).plot(kind='bar', color='orange')\n",
        "    plt.title('Mutual Information with Target')\n",
        "    plt.ylabel('Mutual Information Score')\n",
        "    plt.xlabel('Features')\n",
        "    plt.grid(axis='y', linestyle='--', alpha=0.7)\n",
        "    plt.show()\n",
        "\n",
        "    return mutual_info_series\n",
        "\n",
        "mutual_info_scores = mutual_information_with_target(numerical_features, target)\n",
        "\n",
        "print(\"\\nTop 5 Features by Correlation:\\n\", correlation_scores.nlargest(5))\n",
        "print(\"\\nTop 5 Features by Mutual Information:\\n\", mutual_info_scores.nlargest(5))\n"
      ],
      "metadata": {
        "colab": {
          "base_uri": "https://localhost:8080/",
          "height": 1000
        },
        "id": "7ORU8T6G7M44",
        "outputId": "2c355d36-f052-4ae9-b785-aa52a966ba32"
      },
      "execution_count": 38,
      "outputs": [
        {
          "output_type": "stream",
          "name": "stdout",
          "text": [
            "Correlation with Target:\n",
            " index               0.046099\n",
            "Qty                 0.044359\n",
            "ship-postal-code   -0.036988\n",
            "dtype: float64\n"
          ]
        },
        {
          "output_type": "display_data",
          "data": {
            "text/plain": [
              "<Figure size 1000x600 with 1 Axes>"
            ],
            "image/png": "[encoded data removed]"
          },
          "metadata": {}
        },
        {
          "output_type": "stream",
          "name": "stdout",
          "text": [
            "\n",
            "Mutual Information Scores:\n",
            " index               0.460989\n",
            "Qty                 0.318417\n",
            "ship-postal-code    0.114397\n",
            "dtype: float64\n"
          ]
        },
        {
          "output_type": "display_data",
          "data": {
            "text/plain": [
              "<Figure size 1000x600 with 1 Axes>"
            ],
            "image/png": "[encoded data removed]"
          },
          "metadata": {}
        },
        {
          "output_type": "stream",
          "name": "stdout",
          "text": [
            "\n",
            "Top 5 Features by Correlation:\n",
            " index               0.046099\n",
            "Qty                 0.044359\n",
            "ship-postal-code   -0.036988\n",
            "dtype: float64\n",
            "\n",
            "Top 5 Features by Mutual Information:\n",
            " index               0.460989\n",
            "Qty                 0.318417\n",
            "ship-postal-code    0.114397\n",
            "dtype: float64\n"
          ]
        }
      ]
    }
  ]
}